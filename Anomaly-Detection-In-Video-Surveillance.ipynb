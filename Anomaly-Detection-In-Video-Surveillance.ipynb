{
  "cells": [
    {
      "cell_type": "markdown",
      "source": [
        "# Anomaly Detection In Videos Surveillance Using Machine Learning"
      ],
      "metadata": {
        "id": "BdwHxu1uBpGV"
      }
    },
    {
      "cell_type": "markdown",
      "source": [
        "#### Why Don’t We Use Supervised Methods to Detect Anomalies?\n",
        "\n",
        "Abnormal events are challenging to obtain due to their rarity.\n",
        "There is a massive variety of abnormal events, and manually detecting and labeling such events is a difficult task that requires much manpower.\n",
        "\n",
        "That's why we have to use unsupervised or semi-supervised methods like dictionary learning, Spatio-temporal features, and autoencoders. Unlike supervised methods, these methods only require unlabeled video footages that contain little or no abnormal events that are easy to obtain in real-world applications."
      ],
      "metadata": {
        "id": "_eCtDPiFjRzc"
      }
    },
    {
      "cell_type": "markdown",
      "source": [
        "#### Autoencoders\n",
        "\n",
        "Autoencoders are neural networks that are trained to reconstruct the input.\n",
        "\n",
        "Two parts:\n",
        "> The encoder: Capable of learning efficient representations of the input data (x) called the encoding f(x). The last layer of the encoder is called the bottleneck, which contains the input representation f(x).\n",
        "\n",
        "> The decoder: produces a reconstruction of the input data r = g(f(x)) using the encoding in the bottleneck."
      ],
      "metadata": {
        "id": "u3AfGzqHj2bY"
      }
    },
    {
      "cell_type": "markdown",
      "source": [
        "#### Approach\n",
        "* It is all about the reconstruction error.\n",
        "\n",
        "* We use an autoencoder to learn regularity in video sequences.\n",
        "\n",
        "* The intuition is that the trained autoencoder will reconstruct regular video sequences with low error but it will not accurately reconstruct motions in irregular video sequences.\n",
        "\n"
      ],
      "metadata": {
        "id": "pohjGKe7kLxx"
      }
    },
    {
      "cell_type": "markdown",
      "source": [
        "#### UCSD anomaly detection dataset\n",
        "\n",
        "* It only contains videos acquired with a camera mounted at an elevation, overlooking a pedestrian walkway.\n",
        "\n",
        "* Abnormal events are due to either:\n",
        "    1. Non-pedestrian entities in the walkway, like bikers, skaters, and small carts.\n",
        "    2. Unusual pedestrian motion patterns like people walking across a walkway or at the grass surrounding it.\n",
        "\n",
        "\n",
        "[Download](http://www.svcl.ucsd.edu/projects/anomaly/dataset.htm)"
      ],
      "metadata": {
        "id": "omrmwzr1kqS5"
      }
    },
    {
      "cell_type": "markdown",
      "source": [
        "#### Mounting Drive for dataset and other purposes "
      ],
      "metadata": {
        "id": "WOmlhc92lQm4"
      }
    },
    {
      "cell_type": "code",
      "execution_count": null,
      "metadata": {
        "id": "3IunuOi-f89_",
        "colab": {
          "base_uri": "https://localhost:8080/"
        },
        "outputId": "6f8761cc-fbeb-49ef-b191-cb1020aab188"
      },
      "outputs": [
        {
          "output_type": "stream",
          "name": "stdout",
          "text": [
            "Mounted at /content/drive\n"
          ]
        }
      ],
      "source": [
        "from google.colab import drive\n",
        "drive.mount('/content/drive')"
      ]
    },
    {
      "cell_type": "code",
      "execution_count": null,
      "metadata": {
        "id": "iaE2ApPA_Gw9",
        "scrolled": true
      },
      "outputs": [],
      "source": [
        " #!pip install keras-layer-normalization"
      ]
    },
    {
      "cell_type": "markdown",
      "source": [
        "#### Setting Up"
      ],
      "metadata": {
        "id": "vJ_2taLIluzo"
      }
    },
    {
      "cell_type": "code",
      "execution_count": null,
      "metadata": {
        "id": "_gvmsq9XgcoJ"
      },
      "outputs": [],
      "source": [
        "class Config:\n",
        "  DATASET_PATH =\"/content/drive/MyDrive/Sem-6/SGP/UCSD_Anomaly_Dataset.v1p2/UCSDped1/Train\"\n",
        "  SINGLE_TEST_PATH = \"/content/drive/MyDrive/Sem-6/SGP/UCSD_Anomaly_Dataset.v1p2/UCSDped1/Test/Test032\"\n",
        "  BATCH_SIZE = 4\n",
        "  EPOCHS = 3\n",
        "  MODEL_PATH = \"/content/drive/MyDrive/Sem-6/SGP/model.hdf5\""
      ]
    },
    {
      "cell_type": "markdown",
      "source": [
        "#### Get Frames"
      ],
      "metadata": {
        "id": "E1Q9tP8RehwO"
      }
    },
    {
      "cell_type": "code",
      "source": [
        "import cv2\n",
        "from google.colab import files\n",
        "import numpy as np\n",
        "import os\n",
        "from os.path import isfile, join"
      ],
      "metadata": {
        "id": "hmu5EXsveYmo"
      },
      "execution_count": null,
      "outputs": []
    },
    {
      "cell_type": "code",
      "source": [
        "vidcap = cv2.VideoCapture('Enter Video Path')"
      ],
      "metadata": {
        "id": "kU4o0PVjeT3Q"
      },
      "execution_count": null,
      "outputs": []
    },
    {
      "cell_type": "code",
      "source": [
        "def getFrame(sec):\n",
        "    vidcap.set(cv2.CAP_PROP_POS_MSEC,sec*1000)\n",
        "    hasFrames,image = vidcap.read()\n",
        "    if hasFrames:\n",
        "        cv2.imwrite(\"/content/drive/MyDrive/Sem-6/SGP/frames/\"+str(count)+\".jpg\", image)     # save frame as JPG file\n",
        "    return hasFrames"
      ],
      "metadata": {
        "id": "q_2IQsuueeCY"
      },
      "execution_count": null,
      "outputs": []
    },
    {
      "cell_type": "code",
      "source": [
        "sec = 0\n",
        "frameRate = 0.3 #it will capture image in each 0.3 second\n",
        "count=1\n",
        "success = getFrame(sec)\n",
        "while success:\n",
        "    count = count + 1\n",
        "    sec = sec + frameRate\n",
        "    sec = round(sec, 2)\n",
        "    success = getFrame(sec)"
      ],
      "metadata": {
        "id": "nHfqJxQoegsw"
      },
      "execution_count": null,
      "outputs": []
    },
    {
      "cell_type": "markdown",
      "source": [
        "#### Preparing The Training Set\n",
        "\n",
        "The training set consists of sequences of regular video frames; the model will be trained to reconstruct these sequences. So, let’s get the data ready to feed our model by following these three steps:\n",
        "1. Divide the training video frames into temporal sequences, each of size 10 using the sliding window technique.\n",
        "2. Resize each frame to 256 × 256 to ensure that input images have the same resolution.\n",
        "3. Scale the pixels values between 0 and 1 by dividing each pixel by 256.\n",
        "\n",
        "For generating more number of training data we are going to perform [Data augmentation](https://www.tensorflow.org/tutorials/images/data_augmentation). To generate more training sequences, we concatenate frames with various skipping strides. For example, the first stride-1 sequence is made up of frames (1, 2, 3, 4, 5, 6, 7, 8, 9, 10), whereas the first stride-2 sequence consists of frames (1, 3, 5, 7, 9, 11, 13, 15, 17, 19)."
      ],
      "metadata": {
        "id": "jnTB85dHemyI"
      }
    },
    {
      "cell_type": "code",
      "execution_count": null,
      "metadata": {
        "id": "bRSdhRUCggkU"
      },
      "outputs": [],
      "source": [
        "from os import listdir\n",
        "from os.path import isfile, join, isdir\n",
        "from PIL import Image\n",
        "import numpy as np\n",
        "import shelve\n",
        "# for data augmenting purposes\n",
        "def get_clips_by_stride(stride, frames_list, sequence_size):\n",
        "    # stride : The desired distance between two consecutive frames\n",
        "    # frames_list : A list of sorted frames of shape 256 X 256\n",
        "    # sequence_size: The size of the desired LSTM sequence\n",
        "\n",
        "    clips = []\n",
        "    sz = len(frames_list)\n",
        "    clip = np.zeros(shape=(sequence_size, 256, 256, 1))\n",
        "    cnt = 0\n",
        "    for start in range(0, stride):\n",
        "        for i in range(start, sz, stride):\n",
        "            clip[cnt, :, :, 0] = frames_list[i]\n",
        "            cnt = cnt + 1\n",
        "            if cnt == sequence_size:\n",
        "                clips.append(np.copy(clip))\n",
        "                cnt = 0\n",
        "    return clips\n",
        "\n",
        "\n",
        "def get_training_set():\n",
        "    clips = []\n",
        "    # loop over the training folders (Train000,Train001,..)\n",
        "    for f in sorted(listdir(Config.DATASET_PATH)):\n",
        "        if isdir(join(Config.DATASET_PATH, f)):\n",
        "            all_frames = []\n",
        "            # loop over all the images in the folder (0.tif,1.tif,..,199.tif)\n",
        "            for c in sorted(listdir(join(Config.DATASET_PATH, f))):\n",
        "                # checking the image formate is .tif or not\n",
        "                if str(join(join(Config.DATASET_PATH, f), c))[-3:] == \"tif\":\n",
        "                    # resize image to 256*256\n",
        "                    img = Image.open(join(join(Config.DATASET_PATH, f), c)).resize((256, 256))\n",
        "                    # scaling pixel between 0 and 1.\n",
        "                    img = np.array(img, dtype=np.float32) / 256.0\n",
        "                    all_frames.append(img)\n",
        "            # get the 10-frames sequences from the list of images after applying data augmentation\n",
        "            for stride in range(1, 3):\n",
        "                clips.extend(get_clips_by_stride(stride=stride, frames_list=all_frames, sequence_size=10))\n",
        "    return clips   "
      ]
    },
    {
      "cell_type": "markdown",
      "source": [
        "#### Building And Training The Model\n",
        "> We will use Keras to build our convolutional LSTM autoencoder. we will train the model to reconstruct the regular events.\n",
        "\n",
        "> To build the autoencoder, we should define the encoder and the decoder. The encoder accepts as input a sequence of frames in chronological order, and it consists of two parts: the spatial encoder and the temporal encoder. The encoded features of the sequence that comes out of the spatial encoder are fed into the temporal encoder for motion encoding.\n",
        "\n",
        "> The decoder mirrors the encoder to reconstruct the video sequence"
      ],
      "metadata": {
        "id": "8yFtUE3YyBxM"
      }
    },
    {
      "cell_type": "markdown",
      "source": [
        "**Model**\n",
        "\n",
        "* Convolutional LSTM layers\n",
        "  - For general purposes sequence modeling, LSTM as a particular RNN structure has proven stable and robust for preserving long-range dependencies.\n",
        "Here we used convolutional LSTM layers instead of fully connected LSTM layers because FC-LSTM layers do not keep the spatial data very well because of its usage of full connections in input-to-state and state-to-state transitions in which no spatial information is encoded.\n",
        "* Purpose of Layer Normalization\n",
        "  - Training deep neural networks is computationally expensive. One way to reduce the training time is to normalize the activities of the neurons using Layer Normalization. \n"
      ],
      "metadata": {
        "id": "OJQfdfoC0LsD"
      }
    },
    {
      "cell_type": "code",
      "execution_count": null,
      "metadata": {
        "id": "6layeutJcev_"
      },
      "outputs": [],
      "source": [
        "import keras\n",
        "from keras.layers import Conv2DTranspose, ConvLSTM2D, BatchNormalization, TimeDistributed, Conv2D, LayerNormalization\n",
        "from keras.models import Sequential, load_model\n",
        "def get_model(reload_model=True):\n",
        "    # here we are checking that the pre-trained model exits or not. If yes then we'll use it otherwise we'll train the models and store it somewhere.\n",
        "    if not reload_model:\n",
        "        return load_model(Config.MODEL_PATH,custom_objects={'LayerNormalization': LayerNormalization})\n",
        "    training_set = get_training_set()\n",
        "    training_set = np.array(training_set)\n",
        "    training_set = training_set.reshape(-1,10,256,256,1)\n",
        "    seq = Sequential()\n",
        "    seq.add(TimeDistributed(Conv2D(128, (11, 11), strides=4, padding=\"same\"), batch_input_shape=(None, 10, 256, 256, 1)))\n",
        "    seq.add(LayerNormalization())\n",
        "    seq.add(TimeDistributed(Conv2D(64, (5, 5), strides=2, padding=\"same\")))\n",
        "    seq.add(LayerNormalization())\n",
        "    # # # # #\n",
        "    seq.add(ConvLSTM2D(64, (3, 3), padding=\"same\", return_sequences=True))\n",
        "    seq.add(LayerNormalization())\n",
        "    seq.add(ConvLSTM2D(32, (3, 3), padding=\"same\", return_sequences=True))\n",
        "    seq.add(LayerNormalization())\n",
        "    seq.add(ConvLSTM2D(64, (3, 3), padding=\"same\", return_sequences=True))\n",
        "    seq.add(LayerNormalization())\n",
        "    # # # # #\n",
        "    seq.add(TimeDistributed(Conv2DTranspose(64, (5, 5), strides=2, padding=\"same\")))\n",
        "    seq.add(LayerNormalization())\n",
        "    seq.add(TimeDistributed(Conv2DTranspose(128, (11, 11), strides=4, padding=\"same\")))\n",
        "    seq.add(LayerNormalization())\n",
        "    seq.add(TimeDistributed(Conv2D(1, (11, 11), activation=\"sigmoid\", padding=\"same\")))\n",
        "    print(seq.summary())\n",
        "    seq.compile(loss='mse', optimizer=keras.optimizers.Adam(lr=1e-4, decay=1e-5, epsilon=1e-6))\n",
        "    seq.fit(training_set, training_set,\n",
        "            batch_size=Config.BATCH_SIZE, epochs=Config.EPOCHS, shuffle=False)\n",
        "    seq.save(Config.MODEL_PATH)\n",
        "    return seq"
      ]
    },
    {
      "cell_type": "markdown",
      "source": [
        "#### Single Test Data\n",
        "The first step is to get the test data. We will test each testing video individually. The value of Config.SINGLE_TEST_PATH determines which one will be used."
      ],
      "metadata": {
        "id": "gDNnfvDE1bpL"
      }
    },
    {
      "cell_type": "code",
      "execution_count": null,
      "metadata": {
        "id": "BCRMJnkvsIdX"
      },
      "outputs": [],
      "source": [
        "def get_single_test():\n",
        "    sz = 200\n",
        "    test = np.zeros(shape=(sz, 256, 256, 1))\n",
        "    cnt = 0\n",
        "    for f in sorted(listdir(Config.SINGLE_TEST_PATH)):\n",
        "        if str(join(Config.SINGLE_TEST_PATH, f))[-3:] == \"tif\":\n",
        "            img = Image.open(join(Config.SINGLE_TEST_PATH, f)).resize((256, 256))\n",
        "            img = np.array(img, dtype=np.float32) / 256.0\n",
        "            test[cnt, :, :, 0] = img\n",
        "            cnt = cnt + 1\n",
        "    return test\n"
      ]
    },
    {
      "cell_type": "markdown",
      "source": [
        "#### Testing Model\n",
        "Each testing video has 200 frames. We use the sliding window technique to get all the consecutive 10-frames sequences. In other words, for each t between 0 and 190, we calculate the regularity score Sr(t) of the sequence that starts at frame (t) and ends at frame (t+9)."
      ],
      "metadata": {
        "id": "KXFPiGzl2J8y"
      }
    },
    {
      "cell_type": "code",
      "execution_count": null,
      "metadata": {
        "id": "240Ill9al30k"
      },
      "outputs": [],
      "source": [
        "import matplotlib.pyplot as plt\n",
        "\n",
        "def evaluate():\n",
        "    # fetch model\n",
        "    model = get_model(False)\n",
        "    print(\"Model : \", model)\n",
        "    \n",
        "    # test data\n",
        "    test = get_single_test()\n",
        "    print(\"\\nTest Video Shape : \", test.shape)\n",
        "    sz = test.shape[0] - 10 + 1\n",
        "    sequences = np.zeros((sz, 10, 256, 256, 1))\n",
        "    \n",
        "    # apply the sliding window technique to get the sequences\n",
        "    for i in range(0, sz):\n",
        "        clip = np.zeros((10, 256, 256, 1))\n",
        "        for j in range(0, 10):\n",
        "            clip[j] = test[i + j, :, :, :]\n",
        "        sequences[i] = clip\n",
        "    print(\"\\nGot data\", sequences.shape)\n",
        "\n",
        "    # get the reconstruction cost of all the sequences\n",
        "    reconstructed_sequences = model.predict(sequences,batch_size=4)\n",
        "    # print(\"\\nreconstructed_sequences\", reconstructed_sequences)\n",
        "    sequences_reconstruction_cost = np.array([np.linalg.norm(np.subtract(sequences[i],reconstructed_sequences[i])) for i in range(0,sz)])\n",
        "    # print(\"\\nsequences_reconstruction_cost\", sequences_reconstruction_cost)\n",
        "    sa = (sequences_reconstruction_cost - np.min(sequences_reconstruction_cost)) / np.max(sequences_reconstruction_cost)\n",
        "    # print(\"\\nsa\", sa)\n",
        "    sr = 1.0 - sa\n",
        "    # print(\"\\nsr\", sr)\n",
        "    # plot the regularity scores\n",
        "    print()\n",
        "    plt.plot(sr)\n",
        "    plt.ylabel('regularity score Sr(t)')\n",
        "    plt.xlabel('frame t')\n",
        "    plt.show()"
      ]
    },
    {
      "cell_type": "code",
      "execution_count": null,
      "metadata": {
        "colab": {
          "base_uri": "https://localhost:8080/",
          "height": 383
        },
        "id": "W1pSFLqrhdAi",
        "outputId": "415aa427-d052-457f-9931-838ba74f6b61"
      },
      "outputs": [
        {
          "output_type": "stream",
          "name": "stdout",
          "text": [
            "Model :  <keras.engine.sequential.Sequential object at 0x7fb81c7d43d0>\n",
            "\n",
            "Test Video Shape :  (200, 256, 256, 1)\n",
            "\n",
            "Got data (191, 10, 256, 256, 1)\n",
            "\n"
          ]
        },
        {
          "output_type": "display_data",
          "data": {
            "text/plain": [
              "<Figure size 432x288 with 1 Axes>"
            ],
            "image/png": "[encoded data removed]"
          },
          "metadata": {
            "needs_background": "light"
          }
        }
      ],
      "source": [
        "evaluate()"
      ]
    }
  ],
  "metadata": {
    "accelerator": "GPU",
    "colab": {
      "collapsed_sections": [],
      "machine_shape": "hm",
      "name": "SGP_12-03-22.ipynb",
      "provenance": []
    },
    "kernelspec": {
      "display_name": "Python 3 (ipykernel)",
      "language": "python",
      "name": "python3"
    },
    "language_info": {
      "codemirror_mode": {
        "name": "ipython",
        "version": 3
      },
      "file_extension": ".py",
      "mimetype": "text/x-python",
      "name": "python",
      "nbconvert_exporter": "python",
      "pygments_lexer": "ipython3",
      "version": "3.9.7"
    }
  },
  "nbformat": 4,
  "nbformat_minor": 0
}